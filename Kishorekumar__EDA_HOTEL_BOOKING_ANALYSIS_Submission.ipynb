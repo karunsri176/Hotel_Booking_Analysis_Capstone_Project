{
  "nbformat": 4,
  "nbformat_minor": 0,
  "metadata": {
    "colab": {
      "private_outputs": true,
      "provenance": [],
      "collapsed_sections": [
        "vncDsAP0Gaoa",
        "FJNUwmbgGyua",
        "w6K7xa23Elo4",
        "yQaldy8SH6Dl",
        "mDgbUHAGgjLW",
        "HhfV-JJviCcP",
        "nA9Y7ga8ng1Z",
        "u3PMJOP6ngxN",
        "dauF4eBmngu3",
        "0wOQAZs5pc--",
        "KSlN3yHqYklG",
        "t6dVpIINYklI",
        "ijmpgYnKYklI",
        "EM7whBJCYoAo",
        "fge-S5ZAYoAp",
        "85gYPyotYoAp",
        "4Of9eVA-YrdM",
        "iky9q4vBYrdO",
        "bamQiAODYuh1",
        "QHF8YVU7Yuh3",
        "GwzvFGzlYuh3",
        "OH-pJp9IphqM",
        "PIIx-8_IphqN",
        "BZR9WyysphqO",
        "YJ55k-q6phqO",
        "lssrdh5qphqQ",
        "U2RJ9gkRphqQ",
        "1M8mcRywphqQ",
        "tgIPom80phqQ",
        "x-EpHcCOp1ci",
        "X_VqEhTip1ck",
        "8zGJKyg5p1ck",
        "n3dbpmDWp1ck",
        "ylSl6qgtp1ck",
        "ZWILFDl5p1ck",
        "Ag9LCva-p1cl",
        "E6MkPsBcp1cl",
        "2cELzS2fp1cl",
        "NC_X3p0fY2L0",
        "q29F0dvdveiT",
        "JcMwzZxoAimU",
        "gIfDvo9L0UH2"
      ],
      "include_colab_link": true
    },
    "kernelspec": {
      "name": "python3",
      "display_name": "Python 3"
    },
    "language_info": {
      "name": "python"
    },
    "gpuClass": "standard"
  },
  "cells": [
    {
      "cell_type": "markdown",
      "metadata": {
        "id": "view-in-github",
        "colab_type": "text"
      },
      "source": [
        "<a href=\"https://colab.research.google.com/github/karunsri176/Hotel_Booking_Analysis_Capstone_Project/blob/main/Kishorekumar__EDA_HOTEL_BOOKING_ANALYSIS_Submission.ipynb\" target=\"_parent\"><img src=\"https://colab.research.google.com/assets/colab-badge.svg\" alt=\"Open In Colab\"/></a>"
      ]
    },
    {
      "cell_type": "markdown",
      "source": [
        "# **Project Name**    - **HOTEL BOOKING ANALYSIS**\n",
        "\n"
      ],
      "metadata": {
        "id": "vncDsAP0Gaoa"
      }
    },
    {
      "cell_type": "markdown",
      "source": [
        "##### **Project Type**    - Exploratory Data Analysis\n",
        "##### **Contribution**    - Team\n",
        "##### **Team Member 1 - Kishore Kumar**\n",
        "##### **Team Member 2 - GSS Khokhar**\n",
        "##### **Team Member 3 - Monu Kumar**"
      ],
      "metadata": {
        "id": "beRrZCGUAJYm"
      }
    },
    {
      "cell_type": "markdown",
      "source": [
        "# **Project Summary -**"
      ],
      "metadata": {
        "id": "FJNUwmbgGyua"
      }
    },
    {
      "cell_type": "markdown",
      "source": [
        "Have you ever wondered when the best time of year to book a hotel room is? Or the optimal length of stay in order to get the best daily rate? Cancellation? This hotel booking dataset can help you explore those questions!\n",
        "This data set contains booking information for a city hotel and a resort hotel, and includes information such as when the booking was made, length of stay, the number of adults, children, and/or babies, and the number of available parking spaces, among other things. All personally identifying information has been removed from the data.\n",
        "Explore and analyze the data to discover important factors."
      ],
      "metadata": {
        "id": "F6v_1wHtG2nS"
      }
    },
    {
      "cell_type": "markdown",
      "source": [
        "# **GitHub Link -**"
      ],
      "metadata": {
        "id": "w6K7xa23Elo4"
      }
    },
    {
      "cell_type": "markdown",
      "source": [
        " https://github.com/karunsri176"
      ],
      "metadata": {
        "id": "h1o69JH3Eqqn"
      }
    },
    {
      "cell_type": "markdown",
      "source": [
        "# **Problem Statement**\n"
      ],
      "metadata": {
        "id": "yQaldy8SH6Dl"
      }
    },
    {
      "cell_type": "markdown",
      "source": [
        "**Problem Statement.** \n",
        "\n",
        "1) Have you ever wondered when the best time of year to book a hotel room is? \n",
        "\n",
        "2) the optimal length of stay in order to get the best daily rate? \n",
        "\n",
        "3) Cancellation imapct our business? \n",
        "\n",
        "4) This hotel booking dataset can help you explore those questions!\n",
        "\n",
        "5) Explore and analyze the data to discover important factors that govern the bookings.\n",
        "\n",
        "This data set contains booking information for a city hotel and a resort hotel, and includes information such as when the booking was made, length of stay, the number of adults, children, and/or babies, and the number of available parking spaces, among other things. All personally identifying information has been removed from the data.\n",
        " "
      ],
      "metadata": {
        "id": "DpeJGUA3kjGy"
      }
    },
    {
      "cell_type": "markdown",
      "source": [
        "#### **Define Business Objective?**"
      ],
      "metadata": {
        "id": "PH-0ReGfmX4f"
      }
    },
    {
      "cell_type": "markdown",
      "source": [
        "1) Control the Cancellation.\n",
        "\n",
        "2) Prior alert best time to do book the hotel.\n",
        "\n",
        "3) Suggest attractive offer to given particular market segment to boost booking.\n",
        "\n",
        "4) Suitable way to constant the average daily rate.\n"
      ],
      "metadata": {
        "id": "PhDvGCAqmjP1"
      }
    },
    {
      "cell_type": "markdown",
      "source": [
        "# **General Guidelines** : -  "
      ],
      "metadata": {
        "id": "mDgbUHAGgjLW"
      }
    },
    {
      "cell_type": "markdown",
      "source": [
        "1.   Well-structured, formatted, and commented code. ✅\n",
        "2.   Exception Handling, Production Grade Code & Deployment Ready Code will be a plus. ✅\n",
        "\n",
        "3.   Each and every logic should have proper comments. ✅\n",
        "4. You may add as many number of charts you want. Make Sure for each and every chart the following format should be answered. ✅\n",
        "        \n",
        "\n",
        "```\n",
        "# Chart visualization code\n",
        "```\n",
        "            \n",
        "\n",
        "*   Why did you pick the specific chart? ✅\n",
        "*   What is/are the insight(s) found from the chart? ✅\n",
        "* Will the gained insights help creating a positive business impact? \n",
        "Are there any insights that lead to negative growth? Justify with specific reason. ✅\n",
        "\n",
        "5. You have to create at least 20 logical & meaningful charts having important insights. ✅\n",
        "\n",
        "\n",
        "\n",
        "U - Univariate Analysis, ✅\n",
        "\n",
        "B - Bivariate Analysis (Numerical - Categorical, Numerical - Numerical, Categorical - Categorical) ✅\n",
        "\n",
        "M - Multivariate Analysis ✅\n",
        " ]\n",
        "\n",
        "\n",
        "\n"
      ],
      "metadata": {
        "id": "ZrxVaUj-hHfC"
      }
    },
    {
      "cell_type": "markdown",
      "source": [
        "# ***Let's Begin !***"
      ],
      "metadata": {
        "id": "O_i_v8NEhb9l"
      }
    },
    {
      "cell_type": "markdown",
      "source": [
        "## ***1. Know Data***"
      ],
      "metadata": {
        "id": "HhfV-JJviCcP"
      }
    },
    {
      "cell_type": "markdown",
      "source": [
        "### Import Libraries"
      ],
      "metadata": {
        "id": "Y3lxredqlCYt"
      }
    },
    {
      "cell_type": "code",
      "source": [
        "# Import Libraries\n",
        "from google.colab import drive\n",
        "drive.mount(\"/content/drive\")\n",
        "import numpy as np # for Numerical Analysis\n",
        "import pandas as pd # for manipulation of tabular data.\n",
        "import matplotlib.pyplot as plt # Visalization library\n",
        "import seaborn as sns # Advance Visualization library\n",
        "\n",
        "import warnings\n",
        "warnings.filterwarnings('ignore') # for removing redudant displayed messages"
      ],
      "metadata": {
        "id": "M8Vqi-pPk-HR"
      },
      "execution_count": null,
      "outputs": []
    },
    {
      "cell_type": "markdown",
      "source": [
        "### Dataset Loading"
      ],
      "metadata": {
        "id": "3RnN4peoiCZX"
      }
    },
    {
      "cell_type": "code",
      "source": [
        "# Load Dataset\n",
        "df = pd.read_csv(\"/content/drive/MyDrive/Capstone project -Hotel Booking analysis(EDA)/Hotel Bookings.csv\") # Passing path in the form of string"
      ],
      "metadata": {
        "id": "4CkvbW_SlZ_R"
      },
      "execution_count": null,
      "outputs": []
    },
    {
      "cell_type": "markdown",
      "source": [
        "### Dataset First View"
      ],
      "metadata": {
        "id": "x71ZqKXriCWQ"
      }
    },
    {
      "cell_type": "code",
      "source": [
        "# Dataset First Look\n",
        "df.head() # Display Top five observation."
      ],
      "metadata": {
        "id": "LWNFOSvLl09H"
      },
      "execution_count": null,
      "outputs": []
    },
    {
      "cell_type": "markdown",
      "source": [
        "### Dataset Rows & Columns count"
      ],
      "metadata": {
        "id": "7hBIi_osiCS2"
      }
    },
    {
      "cell_type": "code",
      "source": [
        "# Dataset Rows & Columns count\n",
        "print(\"The Dataset consist of {} observation & {} features.\".format(df.shape[0],df.shape[1])) # Display len of features & records"
      ],
      "metadata": {
        "id": "Kllu7SJgmLij"
      },
      "execution_count": null,
      "outputs": []
    },
    {
      "cell_type": "markdown",
      "source": [
        "### Dataset Information"
      ],
      "metadata": {
        "id": "JlHwYmJAmNHm"
      }
    },
    {
      "cell_type": "code",
      "source": [
        "# Dataset Info\n",
        "df.info() # Genral looking datatype of features & null exist in feature."
      ],
      "metadata": {
        "id": "e9hRXRi6meOf"
      },
      "execution_count": null,
      "outputs": []
    },
    {
      "cell_type": "markdown",
      "source": [
        "#### Duplicate Values"
      ],
      "metadata": {
        "id": "35m5QtbWiB9F"
      }
    },
    {
      "cell_type": "code",
      "source": [
        "# Dataset Duplicate Value Count\n",
        "print(\"The duplicated records is {}.\".format(df[df.duplicated()].shape[0]))\n",
        "df[df.duplicated()] # Checking duplicates exist in data frame"
      ],
      "metadata": {
        "id": "1sLdpKYkmox0"
      },
      "execution_count": null,
      "outputs": []
    },
    {
      "cell_type": "code",
      "source": [
        "# Dataset duplicate remove\n",
        "df.drop_duplicates(inplace=True) # Droping of duplicates\n",
        "df[df.duplicated()] # Checking duplicates again exist in data frame"
      ],
      "metadata": {
        "id": "xOGU4z-MbSTQ"
      },
      "execution_count": null,
      "outputs": []
    },
    {
      "cell_type": "markdown",
      "source": [
        "#### Missing Values/Null Values"
      ],
      "metadata": {
        "id": "PoPl-ycgm1ru"
      }
    },
    {
      "cell_type": "code",
      "source": [
        "# Missing Values/Null Values Count\n",
        "df_Null = df.isnull().sum().to_frame().reset_index().rename(columns={'index': 'Feature', 0: 'Null_Exist'}) # Null value sum => convert to dataframe => reset index => rename column\n",
        "df_Null = df_Null[df_Null[\"Null_Exist\"]>0] # Filter Null greater then zero\n",
        "df_Null[\"%_Null_Exist\"] = [round((df_Null[\"Null_Exist\"].loc[i]/df.shape[0])*100,3) for i in df_Null.index] # adding new feature to percenatage of null exist\n",
        "df_Null # Display dataframe"
      ],
      "metadata": {
        "id": "GgHWkxvamxVg"
      },
      "execution_count": null,
      "outputs": []
    },
    {
      "cell_type": "code",
      "source": [
        "# Visualizing the missing values\n",
        "plt.figure(figsize=(8,5)) # Size of figure\n",
        "plt.barh(width=df_Null[\"%_Null_Exist\"],y=df_Null[\"Feature\"]) # Select horizontal bar by matplot library plugin y parameter as a feature & width as a % null\n",
        "plt.title(\"NULL EXISTANCE IN FEATURES\",fontdict={'fontsize': (15)}) # Title of the plot \n",
        "plt.xlabel(\"<------  %_Null_Exist  ------->\",fontdict={'fontsize': (12)}) # for xlabel\n",
        "plt.ylabel(\"<--------  FEATURES  --------->\",fontdict={'fontsize': (12)}) # for y label\n",
        "plt.grid() # Plotting square grid on plot\n",
        "plt.show() # Only display the plot"
      ],
      "metadata": {
        "id": "3q5wnI3om9sJ"
      },
      "execution_count": null,
      "outputs": []
    },
    {
      "cell_type": "markdown",
      "source": [
        "### What did you know about your dataset?"
      ],
      "metadata": {
        "id": "H0kj-8xxnORC"
      }
    },
    {
      "cell_type": "markdown",
      "source": [
        "Answer : \n",
        "\n",
        "1) The shape of dataset consist of 119390 observation & 32 features.\n",
        "\n",
        "2) Datatype of features is float64(4 features), int64(16 features), object(12 features).\n",
        "\n",
        "3) The existance of duplicate record in dataset is 31994 that duplicacy must remove for future analysis.\n",
        "\n",
        "4) The existance of null in feature is company(93.983%),agent(13.951%),country(0.517%) & children(0.005%)."
      ],
      "metadata": {
        "id": "gfoNAAC-nUe_"
      }
    },
    {
      "cell_type": "markdown",
      "source": [
        "## ***2. Understanding Variables***"
      ],
      "metadata": {
        "id": "nA9Y7ga8ng1Z"
      }
    },
    {
      "cell_type": "code",
      "source": [
        "# Dataset Columns\n",
        "for i in df.columns: # Apply for loop to extract the features of columns\n",
        "  pass\n",
        "  print(i)"
      ],
      "metadata": {
        "id": "j7xfkqrt5Ag5"
      },
      "execution_count": null,
      "outputs": []
    },
    {
      "cell_type": "markdown",
      "source": [
        "hotel : Hotel(Resort Hotel or City Hotel)\n",
        "\n",
        "is_canceled : Value indicating if the booking was canceled (1) or not (0)\n",
        "\n",
        "lead_time : Number of days that elapsed between the entering date of the booking into the PMS and the arrival date\n",
        "\n",
        "arrival_date_year : Year of arrival date\n",
        "\n",
        "arrival_date_month : Month of arrival date\n",
        "\n",
        "arrival_date_week_number : Week number of year for arrival date\n",
        "\n",
        "arrival_date_day_of_month : Day of arrival date\n",
        "\n",
        "stays_in_weekend_nights : Number of weekend nights (Saturday or Sunday) the guest stayed or booked to stay at the hotel\n",
        "\n",
        "stays_in_week_nights : Number of week nights (Monday to Friday) the guest stayed or booked to stay at the hotel\n",
        "\n",
        "adults : Number of adults\n",
        "\n",
        "children : Number of children\n",
        "\n",
        "babies : Number of babies\n",
        "\n",
        "meal : Type of meal booked. Categories are presented in standard hospitality meal packages:\n",
        "\n",
        "country : Country of origin.`\n",
        "\n",
        "market_segment : Market segment designation. In categories, the term “TA” means “Travel Agents” and “TO” means “Tour Operators”\n",
        "\n",
        "distribution_channel : Booking distribution channel. The term “TA” means “Travel Agents” and “TO” means “Tour Operators”\n",
        "\n",
        "is_repeated_guest : Value indicating if the booking name was from a repeated guest (1) or not (0)\n",
        "\n",
        "previous_cancellations : Number of previous bookings that were cancelled by the customer prior to the current booking\n",
        "\n",
        "previous_bookings_not_canceled : Number of previous bookings not cancelled by the customer prior to the current booking\n",
        "\n",
        "reserved_room_type : Code of room type reserved. Code is presented instead of designation for anonymity reasons.\n",
        "\n",
        "assigned_room_type : Code for the type of room assigned to the booking.\n",
        "\n",
        "booking_changes : Number of changes/amendments made to the booking from the moment the booking was entered on the PMS until the moment of check-in or cancellation\n",
        "\n",
        "deposit_type : Indication on if the customer made a deposit to guarantee the booking.\n",
        "\n",
        "agent : ID of the travel agency that made the booking\n",
        "\n",
        "company : ID of the company/entity that made the booking or responsible for paying the booking.\n",
        "\n",
        "days_in_waiting_list : Number of days the booking was in the waiting list before it was confirmed to the customer\n",
        "\n",
        "customer_type : Type of booking, assuming one of four categories\n",
        "\n",
        "adr : Average Daily Rate as defined by dividing the sum of all lodging transactions by the total number of staying nights\n",
        "\n",
        "required_car_parking_spaces : Number of car parking spaces required by the customer\n",
        "\n",
        "total_of_special_requests : Number of special requests made by the customer (e.g. twin bed or high floor)\n",
        "\n",
        "reservation_status: Reservation last status, assuming one of three categories\n",
        "\n",
        "Canceled – booking was canceled by the customer Check-Out – customer has checked in but already departed No-Show – customer did not check-in and did inform the hotel of the reason why\n",
        "\n",
        "reservation_status_date : Date at which the last status was set. This variable can be used in conjunction with the ReservationStatus to understand when was the booking canceled or when did the customer checked-out of the hotel"
      ],
      "metadata": {
        "id": "PxE7IfHidMKO"
      }
    },
    {
      "cell_type": "code",
      "source": [
        "# Dataset Describe\n",
        "df.describe(include=\"all\").T # Describe of dataframe to general view"
      ],
      "metadata": {
        "id": "DnOaZdaE5Q5t"
      },
      "execution_count": null,
      "outputs": []
    },
    {
      "cell_type": "markdown",
      "source": [
        "### Variables Description "
      ],
      "metadata": {
        "id": "PBTbrJXOngz2"
      }
    },
    {
      "cell_type": "markdown",
      "source": [
        "continuous Features contain skewness.\n",
        "\n",
        "Discrete Features reflect most frequent datapoints."
      ],
      "metadata": {
        "id": "aJV4KIxSnxay"
      }
    },
    {
      "cell_type": "markdown",
      "source": [
        "### Check Unique Values for each variable."
      ],
      "metadata": {
        "id": "u3PMJOP6ngxN"
      }
    },
    {
      "cell_type": "code",
      "source": [
        "# Check Unique Values for each variable.\n",
        "df_Feature_len = pd.DataFrame() # Take Empty dataframe\n",
        "for i in df.columns: # Apply for loop\n",
        "  print(\" Feature of '{}' Unique consist of \\t :\".format(i),df[i].unique(),\"\\n\",\"Length Of Feature '{}' Unique Is \\t : {}\".format(i,len(df[i].unique()))) # print unique of feature & length of feature\n",
        "  df_Feature_len = df_Feature_len.append({\"FEATURE\":i,\"UNIQUE\":df[i].unique(),\"UNIQUE_LEN\":len(df[i].unique())},ignore_index=True) # Append the above value in above assigned dataframe\n",
        "  print(\"====\"*20) # For Seperation\n",
        "  print(\"\\n\") # control jump new line to print next "
      ],
      "metadata": {
        "id": "zms12Yq5n-jE"
      },
      "execution_count": null,
      "outputs": []
    },
    {
      "cell_type": "code",
      "source": [
        "# Visualization of Unique of Variable\n",
        "plt.figure(figsize=(12,7)) # Define figure size \n",
        "plt.barh(width=df_Feature_len.sort_values(by=\"UNIQUE_LEN\")[\"UNIQUE_LEN\"],\n",
        "         y=df_Feature_len.sort_values(by=\"UNIQUE_LEN\")[\"FEATURE\"]) # Select horizontal bar by matplot library plugin y parameter as a feature & width as a unique_len\n",
        "plt.title(\"FEATURES UNIQUE VALUES LENGTH\",fontdict={'fontsize': (15)}) # Define title of the plot\n",
        "plt.xlim((0,200)) # Zooming\n",
        "plt.xlabel(\"<------  LENGTH OF UNIQUE OF VARIABLE  ------->\",fontdict={'fontsize': (12)}) # for xlabel\n",
        "plt.ylabel(\"<--------  FEATURES   --------->\",fontdict={'fontsize': (12)}) # for ylabel\n",
        "plt.grid() # Plotting square grid on plot\n",
        "plt.show() # Only display the plot"
      ],
      "metadata": {
        "id": "4fBDvQIUhUhf"
      },
      "execution_count": null,
      "outputs": []
    },
    {
      "cell_type": "markdown",
      "source": [
        "## 3. ***Data Wrangling***"
      ],
      "metadata": {
        "id": "dauF4eBmngu3"
      }
    },
    {
      "cell_type": "markdown",
      "source": [
        "### Data Wrangling Code"
      ],
      "metadata": {
        "id": "bKJF3rekwFvQ"
      }
    },
    {
      "cell_type": "code",
      "source": [
        "# Write your code to make your dataset analysis ready.\n",
        "df_Feature = pd.DataFrame() # Empty dataframe\n",
        "for i in df.columns: # Apply for loop here iterable is list of features\n",
        "  if len(df[i].unique())<=30: # feature unique length is less than & equal 30 collect as discreate\n",
        "    # append that features in the dataframe via sorting of numerical as ascending and text as same\n",
        "    df_Feature = df_Feature.append({\"FEATURE\":i,\"F_TYPE\":\"DISC\",\"F_UNIQUE\":df[i].unique() if type(df[i].unique()[0])==str else np.sort(df[i].unique()),\"F_UNIQUE_LEN\":len(df[i].unique())},ignore_index=True)\n",
        "  elif len(df[i].unique())>30: # feature unique length is greater than 30 collect as continuous\n",
        "    # append that features in the dataframe via sorting of numerical as ascending and text as same\n",
        "    df_Feature = df_Feature.append({\"FEATURE\":i,\"F_TYPE\":\"CONT\",\"F_UNIQUE\":df[i].unique() if type(df[i].unique()[0])==str else np.sort(df[i].unique()),\"F_UNIQUE_LEN\":len(df[i].unique())},ignore_index=True)\n",
        "df_Feature.loc[[13,23,24,31],\"F_TYPE\"] = \"DISC\" # Manually by using item assignment method to changing continuous to discrete\n",
        "df_Feature.loc[[7],\"F_TYPE\"] = \"CONT\" # Manually by using item assignment method to changing discrete to continuous\n",
        "CONT_VAR = df_Feature[df_Feature[\"F_TYPE\"]==\"CONT\"][\"FEATURE\"].to_list() # Collect continuous variable to list\n",
        "DISC_VAR = df_Feature[df_Feature[\"F_TYPE\"]==\"DISC\"][\"FEATURE\"].to_list() # collect discrete variable to list\n",
        "print(\"The Continuous Feature is \\t: {}\".format(CONT_VAR)) # Print list of Continuous features\n",
        "print(\"\\n\") # For Spacing new line\n",
        "print(\"The Discrete Feature is \\t: {}\".format(DISC_VAR)) # Print list of Discrete feature"
      ],
      "metadata": {
        "id": "wk-9a2fpoLcV"
      },
      "execution_count": null,
      "outputs": []
    },
    {
      "cell_type": "code",
      "source": [
        "# Year wise extraction\n",
        "df_2015 = df[df['arrival_date_year']==2015]\n",
        "df_2016 = df[df['arrival_date_year']==2016]\n",
        "df_2017 = df[df['arrival_date_year']==2017]"
      ],
      "metadata": {
        "id": "9n8rG2NFVn1D"
      },
      "execution_count": null,
      "outputs": []
    },
    {
      "cell_type": "code",
      "source": [
        "# Extraction  non cancellation\n",
        "df_0 = df[df['is_canceled']==0]\n",
        "df_2015_0 = df_2015[df_2015['is_canceled']==0]\n",
        "df_2016_0 = df_2016[df_2016['is_canceled']==0]\n",
        "df_2017_0 = df_2017[df_2017['is_canceled']==0]\n",
        "# Extraction cancellation\n",
        "df_1 = df[df['is_canceled']==1]\n",
        "df_2015_1 = df_2015[df_2015['is_canceled']==1]\n",
        "df_2016_1 = df_2016[df_2016['is_canceled']==1]\n",
        "df_2017_1 = df_2017[df_2017['is_canceled']==1]"
      ],
      "metadata": {
        "id": "TvJbDKBLv93d"
      },
      "execution_count": null,
      "outputs": []
    },
    {
      "cell_type": "code",
      "source": [
        "# Extract data year=>Cancel=>hoteltype\n",
        "df_1_R = df_1[(df_1['hotel']==\"Resort Hotel\")]\n",
        "df_1_C = df_1[(df_1['hotel']==\"City Hotel\")]\n",
        "df_2015_1_R = df_2015_1[(df_2015_1['hotel']==\"Resort Hotel\")]\n",
        "df_2015_1_C = df_2015_1[(df_2015_1['hotel']==\"City Hotel\")]\n",
        "df_2016_1_R = df_2016_1[(df_2016_1['hotel']==\"Resort Hotel\")]\n",
        "df_2016_1_C = df_2016_1[(df_2016_1['hotel']==\"City Hotel\")]\n",
        "df_2017_1_R = df_2017_1[(df_2017_1['hotel']==\"Resort Hotel\")]\n",
        "df_2017_1_C = df_2017_1[(df_2017_1['hotel']==\"City Hotel\")]\n",
        "\n",
        "# Extract data year=>Notcancel=>hoteltype \n",
        "df_0_R = df_0[(df_0['hotel']==\"Resort Hotel\")]\n",
        "df_0_C = df_0[(df_0['hotel']==\"City Hotel\")]\n",
        "df_2015_0_R = df_2015_0[(df_2015_0['hotel']==\"Resort Hotel\")]\n",
        "df_2015_0_C = df_2015_0[(df_2015_0['hotel']==\"City Hotel\")]\n",
        "df_2016_0_R = df_2016_0[(df_2016_0['hotel']==\"Resort Hotel\")]\n",
        "df_2016_0_C = df_2016_0[(df_2016_0['hotel']==\"City Hotel\")]\n",
        "df_2017_0_R = df_2017_0[(df_2017_0['hotel']==\"Resort Hotel\")]\n",
        "df_2017_0_C = df_2017_0[(df_2017_0['hotel']==\"City Hotel\")]"
      ],
      "metadata": {
        "id": "zDYvHSvPeOYF"
      },
      "execution_count": null,
      "outputs": []
    },
    {
      "cell_type": "code",
      "source": [
        "# Manupulating which customer type segment have highest room switch occured \n",
        "df[['reserved_room_type', 'assigned_room_type',]] # extraction of reserved room & assigned room from dataframe \n",
        "temp_index = [] # Take empty list for collection of index\n",
        "for i in df[['reserved_room_type', 'assigned_room_type']].index: # for loop and taking iterable as a list of index\n",
        "  if df.loc[i,'reserved_room_type'] == df.loc[i,'assigned_room_type']: # Condition reserved room & assigned room datatype are same then pass \n",
        "    pass\n",
        "  elif df.loc[i,'reserved_room_type'] != df.loc[i,'assigned_room_type']: # Condition reserved room & assigned room datatype are different\n",
        "    temp_index.append(i) # Append those index number in a predefined empty list\n",
        "df.loc[temp_index][\"customer_type\"].reset_index().value_counts(\"customer_type\").to_frame().rename(columns={0:\"count\"}) # Using loc and pass index whom reserved & assigned room is not same and make vlaue count of that customer type"
      ],
      "metadata": {
        "id": "XBd4Vb9pAlvx"
      },
      "execution_count": null,
      "outputs": []
    },
    {
      "cell_type": "code",
      "source": [
        "# Best leadtime to book the hotel on particular market segment\n",
        "df[[\"hotel\",\"lead_time\",'market_segment']].groupby(by=['market_segment','hotel'])[\"lead_time\"].quantile(.76).reset_index() # using groupby operation and create new dataframe & extract quantile to 76% value of lead_time"
      ],
      "metadata": {
        "id": "x9Isvlt_21Va"
      },
      "execution_count": null,
      "outputs": []
    },
    {
      "cell_type": "code",
      "source": [
        "# arrival dailyrate of person the hotel on particular market segment\n",
        "df[[\"hotel\",\"adr\",'market_segment']].groupby(by=['market_segment','hotel'])[\"adr\"].quantile(.50).reset_index() # using groupby operation and create new dataframe & extract quantile to 50% value of adr"
      ],
      "metadata": {
        "id": "CqPwe-yq3PYZ"
      },
      "execution_count": null,
      "outputs": []
    },
    {
      "cell_type": "markdown",
      "source": [
        "### What all manipulations have you done and insights you found?"
      ],
      "metadata": {
        "id": "MSa1f5Uengrz"
      }
    },
    {
      "cell_type": "markdown",
      "source": [
        "Answer :- From above extract of data and stored as a understandable identifier name for our covinence as a visualization of plots."
      ],
      "metadata": {
        "id": "LbyXE7I1olp8"
      }
    },
    {
      "cell_type": "markdown",
      "source": [
        "## ***4. Data Vizualization, Storytelling & Experimenting with charts : Understand the relationships between variables***"
      ],
      "metadata": {
        "id": "GF8Ens_Soomf"
      }
    },
    {
      "cell_type": "markdown",
      "source": [
        "#### Chart - 1"
      ],
      "metadata": {
        "id": "0wOQAZs5pc--"
      }
    },
    {
      "cell_type": "code",
      "source": [
        "# Chart - 1 visualization code\n",
        "# Using value count and prepare data on particular year of Non cancellation i.e. full,2015,2016,2017\n",
        "hotel_0,hotel_2015_0,hotel_2016_0,hotel_2017_0 = df_0['hotel'].value_counts(),df_2015_0['hotel'].value_counts(),df_2016_0['hotel'].value_counts(),df_2017_0['hotel'].value_counts()\n",
        "# For Define size and sub plot numbers\n",
        "fig, ax = plt.subplots(2,2, figsize=(15,10))\n",
        "# Pie plot of Complete data of confirm booking color using pink & violet with proper labels and proper define edges\n",
        "ax[0,0].pie(hotel_0,colors=['pink','violet'],explode=[0.05,0.05], autopct=lambda m: '{:.0f}\\n({:.1f}%)'.format(m*sum(hotel_0)/100,m),labels=hotel_0.index,wedgeprops={\"edgecolor\":\"black\",'linewidth': 2, 'linestyle': 'solid'})\n",
        "# Set the title of First plot with proper assigned font size \n",
        "ax[0,0].set_title(\"Over_All\",fontsize=20)\n",
        "# second right top Pie plot of year 2015 data of confirm booking  with proper labels and proper define edges\n",
        "ax[0,1].pie(hotel_2015_0,explode=[0.05,0.05], autopct=lambda m: '{:.0f}\\n({:.1f}%)'.format(m*sum(hotel_2015_0)/100,m),labels=hotel_2015_0.index,wedgeprops={\"edgecolor\":\"black\",'linewidth': 2, 'linestyle': 'solid'})\n",
        "# Set the title of Second plot with proper assigned font size \n",
        "ax[0,1].set_title(\"Year_2015\",fontsize=20)\n",
        "# Third left bottom Pie plot of year 2016 data of confirm booking  with proper labels and proper define edges\n",
        "ax[1,0].pie(hotel_2016_0,explode=[0.05,0.05], autopct=lambda m: '{:.0f}\\n({:.1f}%)'.format(m*sum(hotel_2016_0)/100,m),labels=hotel_2016_0.index,wedgeprops={\"edgecolor\":\"black\",'linewidth': 2, 'linestyle': 'solid'})\n",
        "# Set the title of Third plot with proper assigned font size \n",
        "ax[1,0].set_title(\"Year_2016\",fontsize=20)\n",
        "# Fourth right bottom Pie plot of year 2017 data of confirm booking  with proper labels and proper define edges\n",
        "ax[1,1].pie(hotel_2017_0,explode=[0.05,0.05], autopct=lambda m: '{:.0f}\\n({:.1f}%)'.format(m*sum(hotel_2017_0)/100,m),labels=hotel_2017_0.index,wedgeprops={\"edgecolor\":\"black\",'linewidth': 2, 'linestyle': 'solid'})\n",
        "# Set the title of Fourth plot with proper assigned font size \n",
        "ax[1,1].set_title(\"Year_2017\",fontsize=20)\n",
        "# Set the title of Overall plot \n",
        "fig.suptitle('Confirm Booking Allocation',fontsize=30) \n",
        "# Display only plot not error message\n",
        "plt.show()"
      ],
      "metadata": {
        "id": "7v_ESjsspbW7"
      },
      "execution_count": null,
      "outputs": []
    },
    {
      "cell_type": "markdown",
      "source": [
        "##### 1. Why did you pick the specific chart?"
      ],
      "metadata": {
        "id": "K5QZ13OEpz2H"
      }
    },
    {
      "cell_type": "markdown",
      "source": [
        "Answer :- To see the Over all & year wise of Actual booking of City & Resort Hotel."
      ],
      "metadata": {
        "id": "XESiWehPqBRc"
      }
    },
    {
      "cell_type": "markdown",
      "source": [
        "##### 2. What is/are the insight(s) found from the chart?"
      ],
      "metadata": {
        "id": "lQ7QKXXCp7Bj"
      }
    },
    {
      "cell_type": "markdown",
      "source": [
        "Answer :- City hotel is demanded at all the time compare with resort hotel. "
      ],
      "metadata": {
        "id": "C_j1G7yiqdRP"
      }
    },
    {
      "cell_type": "markdown",
      "source": [
        "##### 3. Will the gained insights help creating a positive business impact? \n",
        "Are there any insights that lead to negative growth? Justify with specific reason."
      ],
      "metadata": {
        "id": "448CDAPjqfQr"
      }
    },
    {
      "cell_type": "markdown",
      "source": [
        "Answer:- City hotel is more demanded is good but the good positive business impact is cancellation of city hotel is also less, so whatever total booking is almost nearby as the actual booking (cancellation quantity is under of 5% of total hotal booking).\n",
        "\n",
        "**Total city hotel booking is 37379.**\n",
        "\n",
        "----"
      ],
      "metadata": {
        "id": "3cspy4FjqxJW"
      }
    },
    {
      "cell_type": "markdown",
      "source": [
        "#### Chart - 2"
      ],
      "metadata": {
        "id": "KSlN3yHqYklG"
      }
    },
    {
      "cell_type": "code",
      "source": [
        "# Chart - 2 visualization code\n",
        "# Using value count and prepare data on particular year of cancellation i.e. full,2015,2016,2017\n",
        "hotel_1,hotel_2015_1,hotel_2016_1,hotel_2017_1 = df_1['hotel'].value_counts(),df_2015_1['hotel'].value_counts(),df_2016_1['hotel'].value_counts(),df_2017_1['hotel'].value_counts()\n",
        "# For Define size and sub plot numbers\n",
        "fig, ax = plt.subplots(2,2, figsize=(15,10))\n",
        "# Pie plot of Complete data of cancellation color using pink & violet with proper labels and proper define edges\n",
        "ax[0,0].pie(hotel_1,colors=['pink','violet'],explode=[0.05,0.05], autopct=lambda m: '{:.0f}\\n({:.1f}%)'.format(m*sum(hotel_1)/100,m),labels=hotel_1.index,wedgeprops={\"edgecolor\":\"black\",'linewidth': 2, 'linestyle': 'solid'})\n",
        "# Set the title of First plot with proper assigned font size\n",
        "ax[0,0].set_title(\"Over_All\",fontsize=20)\n",
        "# second right top Pie plot of year 2015 data of cancellation with proper labels and proper define edges\n",
        "ax[0,1].pie(hotel_2015_1,explode=[0.05,0.05], autopct=lambda m: '{:.0f}\\n({:.1f}%)'.format(m*sum(hotel_2015_1)/100,m),labels=hotel_2015_1.index,wedgeprops={\"edgecolor\":\"black\",'linewidth': 2, 'linestyle': 'solid'})\n",
        "# Set the title of Second plot with proper assigned font size \n",
        "ax[0,1].set_title(\"Year_2015\",fontsize=20)\n",
        "# Third left bottom Pie plot of year 2016 data of cancellation with proper labels and proper define edges\n",
        "ax[1,0].pie(hotel_2016_1,explode=[0.05,0.05], autopct=lambda m: '{:.0f}\\n({:.1f}%)'.format(m*sum(hotel_2016_1)/100,m),labels=hotel_2016_1.index,wedgeprops={\"edgecolor\":\"black\",'linewidth': 2, 'linestyle': 'solid'})\n",
        "# Set the title of Third plot with proper assigned font size\n",
        "ax[1,0].set_title(\"Year_2016\",fontsize=20)\n",
        "# Fourth right bottom Pie plot of year 2017 data of cancellation with proper labels and proper define edges\n",
        "ax[1,1].pie(hotel_2017_1,explode=[0.05,0.05], autopct=lambda m: '{:.0f}\\n({:.1f}%)'.format(m*sum(hotel_2017_1)/100,m),labels=hotel_2017_1.index,wedgeprops={\"edgecolor\":\"black\",'linewidth': 2, 'linestyle': 'solid'})\n",
        "# Set the title of Fourth plot with proper assigned font size\n",
        "ax[1,1].set_title(\"Year_2017\",fontsize=20)\n",
        "# Set the title of Overall plot \n",
        "fig.suptitle('Actual Booking Cancellation',fontsize=30) \n",
        "# Display only plot not error message\n",
        "plt.show()"
      ],
      "metadata": {
        "id": "R4YgtaqtYklH"
      },
      "execution_count": null,
      "outputs": []
    },
    {
      "cell_type": "markdown",
      "source": [
        "##### 1. Why did you pick the specific chart?"
      ],
      "metadata": {
        "id": "t6dVpIINYklI"
      }
    },
    {
      "cell_type": "markdown",
      "source": [
        "Answer :- To see the Over all & year wise of Cancellation booking of City & Resort Hotel."
      ],
      "metadata": {
        "id": "5aaW0BYyYklI"
      }
    },
    {
      "cell_type": "markdown",
      "source": [
        "##### 2. What is/are the insight(s) found from the chart?"
      ],
      "metadata": {
        "id": "ijmpgYnKYklI"
      }
    },
    {
      "cell_type": "markdown",
      "source": [
        "Answer :- City hotel is highest cancellation at all the time compare with resort hotel."
      ],
      "metadata": {
        "id": "PSx9atu2YklI"
      }
    },
    {
      "cell_type": "markdown",
      "source": [
        "##### 3. Will the gained insights help creating a positive business impact? \n",
        "Are there any insights that lead to negative growth? Justify with specific reason.\n",
        "\n"
      ],
      "metadata": {
        "id": "-JiQyfWJYklI"
      }
    },
    {
      "cell_type": "markdown",
      "source": [
        "Answer :- City hotel total cancellation is 16049.\n",
        "\n",
        "As the above cancellation number is under the **5%** of total booking.\n",
        "\n",
        "Cancellation percentage = 16049/(16049+37379) * 100\n",
        "\n",
        "Cancellation percentage = **30.03%**\n",
        "\n",
        "cancellation percentage is very high that can high impact our business.\n",
        "\n",
        "---"
      ],
      "metadata": {
        "id": "BcBbebzrYklV"
      }
    },
    {
      "cell_type": "markdown",
      "source": [
        "#### Chart - 3"
      ],
      "metadata": {
        "id": "EM7whBJCYoAo"
      }
    },
    {
      "cell_type": "code",
      "source": [
        "# Chart - 3 visualization code\n",
        "# Extraction of year wise data of cancellation of city hotel\n",
        "df_2017_1_C = df_2017_1[(df_2017_1['hotel']==\"City Hotel\")]\n",
        "df_2016_1_C = df_2016_1[(df_2016_1['hotel']==\"City Hotel\")]\n",
        "df_2015_1_C = df_2015_1[(df_2015_1['hotel']==\"City Hotel\")]\n",
        "# Using value count and prepare data on particular year of cancellation of top 6 country i.e. 2016,2017\n",
        "con_df_2015_1_C,con_df_2016_1_C,con_df_2017_1_C = df_2015_1_C[\"country\"].value_counts()[:6],df_2016_1_C[\"country\"].value_counts()[:6],df_2017_1_C[\"country\"].value_counts()[:6]\n",
        "# For Define size and sub plot numbers\n",
        "fig, ax = plt.subplots(1,2, figsize=(15,10))\n",
        "# Pie plot of cancellation percentage in 2016 top six with proper labels and proper define edges\n",
        "ax[0].pie(con_df_2016_1_C,autopct=lambda m: '{:.0f}\\n({:.1f}%)'.format(m*sum(con_df_2016_1_C)/100,m),labels=con_df_2016_1_C.index[:6],wedgeprops={\"edgecolor\":\"black\",'linewidth': 2, 'linestyle': 'solid'})\n",
        "# Set the title of First plot with proper assigned font size\n",
        "ax[0].set_title(\"Top6_cancel%_2016\",fontsize=20)\n",
        "# Pie plot of cancellation percentage in 2017 top six with proper labels and proper define edges\n",
        "ax[1].pie(con_df_2017_1_C,autopct=lambda m: '{:.0f}\\n({:.1f}%)'.format(m*sum(con_df_2017_1_C)/100,m),labels=con_df_2017_1_C.index[:6],wedgeprops={\"edgecolor\":\"black\",'linewidth': 2, 'linestyle': 'solid'})\n",
        "# Set the title of Second plot with proper assigned font size\n",
        "ax[1].set_title(\"Top6_Cancel%_2017\",fontsize=20)\n",
        "# Set the title of Overall plot \n",
        "fig.suptitle('City Hotel Top Six Country Cancellation',fontsize=30)\n",
        "# Display only plot not error message\n",
        "plt.show()"
      ],
      "metadata": {
        "id": "t6GMdE67YoAp"
      },
      "execution_count": null,
      "outputs": []
    },
    {
      "cell_type": "markdown",
      "source": [
        "##### 1. Why did you pick the specific chart?"
      ],
      "metadata": {
        "id": "fge-S5ZAYoAp"
      }
    },
    {
      "cell_type": "markdown",
      "source": [
        "Answer :- Too see top six country of highest cancellation."
      ],
      "metadata": {
        "id": "5dBItgRVYoAp"
      }
    },
    {
      "cell_type": "markdown",
      "source": [
        "##### 2. What is/are the insight(s) found from the chart?"
      ],
      "metadata": {
        "id": "85gYPyotYoAp"
      }
    },
    {
      "cell_type": "markdown",
      "source": [
        "Answer :- PRT,FRA,ESP,GBR,ITA,DEU is the top six country which has key play role of negative impact of bussiness growth."
      ],
      "metadata": {
        "id": "4jstXR6OYoAp"
      }
    },
    {
      "cell_type": "markdown",
      "source": [
        "##### 3. Will the gained insights help creating a positive business impact? \n",
        "Are there any insights that lead to negative growth? Justify with specific reason."
      ],
      "metadata": {
        "id": "RoGjAbkUYoAp"
      }
    },
    {
      "cell_type": "markdown",
      "source": [
        "Answer :- Business growth is lag because of high cancellation of among this  country. for this country which customer type do the highest cancellation so we find the main reason of cancellation in further analysis.\n",
        "\n",
        "---"
      ],
      "metadata": {
        "id": "zfJ8IqMcYoAp"
      }
    },
    {
      "cell_type": "markdown",
      "source": [
        "#### Chart - 4"
      ],
      "metadata": {
        "id": "4Of9eVA-YrdM"
      }
    },
    {
      "cell_type": "code",
      "source": [
        "# # Chart -4 visualization code\n",
        "# # Extract data of cancellation of country of PRT in year 2016,2017\n",
        "# df_2016_1_C_PRT = df_2016_1_C[(df_2016_1_C[\"country\"]==\"PRT\")]\n",
        "# df_2017_1_C_PRT = df_2017_1_C[(df_2017_1_C[\"country\"]==\"PRT\")]\n",
        "\n",
        "# for j in [df_2016_1_C_PRT,df_2017_1_C_PRT]: # apply for loop\n",
        "#   # comparing factor put on iterable that is arrival_date_month,meal,customer_type,reserved_room_type,market_segment\n",
        "#   for i in [\"arrival_date_month\",\"meal\",\"customer_type\",\"reserved_room_type\",\"market_segment\"]:\n",
        "#     # Using Categorized plot in seaborn library\n",
        "#     sns.catplot(x=i,data=j,kind=\"count\",height=5, aspect=1.7)\n",
        "#     # plot the title of chart \n",
        "#     plt.title(\"Country PRT Cancelllation Year '2016 & 2017' \\n Feature {} distribution\".format(i),fontsize=15)\n",
        "#     # Display only plot not error message \n",
        "#     plt.show()\n",
        "#     # one jump of new line of another plot\n",
        "#     print(\"\\n\")\n",
        "\n",
        "\n",
        "for i in [\"arrival_date_month\",\"meal\",\"customer_type\",\"reserved_room_type\",\"market_segment\"]:\n",
        "  # Using Categorized plot in seaborn library\n",
        "  sns.catplot(x=i,data=df[(df[\"country\"]==\"PRT\") & (df['is_canceled']==1)],kind=\"count\",hue=\"arrival_date_year\",height=5, aspect=1.7)\n",
        "  # plot the title of chart \n",
        "  plt.title(\"Country PRT Cancelllation \\n Feature {} distribution\".format(i),fontsize=15)\n",
        "  # Display only plot not error message \n",
        "  plt.show()\n",
        "  # one jump of new line of another plot\n",
        "  print(\"\\n\")\n"
      ],
      "metadata": {
        "id": "7wv6dQRSaCJO"
      },
      "execution_count": null,
      "outputs": []
    },
    {
      "cell_type": "markdown",
      "source": [
        "##### 1. Why did you pick the specific chart?"
      ],
      "metadata": {
        "id": "iky9q4vBYrdO"
      }
    },
    {
      "cell_type": "markdown",
      "source": [
        "Answer :- Top cancellation achieved by PRT country is what type of data distribution of \"arrival_date_month\",\"meal\",\"customer_type\",\"reserved_room_type\" & \"market_segment\"  of this factors for comparison."
      ],
      "metadata": {
        "id": "aJRCwT6DYrdO"
      }
    },
    {
      "cell_type": "markdown",
      "source": [
        "##### 2. What is/are the insight(s) found from the chart?"
      ],
      "metadata": {
        "id": "F6T5p64dYrdO"
      }
    },
    {
      "cell_type": "markdown",
      "source": [
        "Answer :- For above chart found out \n",
        "\n",
        "\"arrival_date_month\" is maximum in the month of september and minimum in the month of january,BB is meal choosen,Transient is the \"customer_type\",A is the reserved room type &  Offline,online,group are in the top three market segment.\n",
        "\n"
      ],
      "metadata": {
        "id": "Xx8WAJvtYrdO"
      }
    },
    {
      "cell_type": "markdown",
      "source": [
        "##### 3. Will the gained insights help creating a positive business impact? \n",
        "Are there any insights that lead to negative growth? Justify with specific reason."
      ],
      "metadata": {
        "id": "y-Ehk30pYrdP"
      }
    },
    {
      "cell_type": "markdown",
      "source": [
        "Answer :- Send report to the PRT country city hotel looks at their end more focus on insight write on the above answer and take proper feedback of this particular cluster of customer when they stay at hotel.  \n",
        "\n",
        "\n",
        "---"
      ],
      "metadata": {
        "id": "jLNxxz7MYrdP"
      }
    },
    {
      "cell_type": "markdown",
      "source": [
        "#### Chart - 5"
      ],
      "metadata": {
        "id": "bamQiAODYuh1"
      }
    },
    {
      "cell_type": "code",
      "source": [
        "# Chart - 5 visualization code\n",
        "# Extract data of Confirm booking of City Hotel of year 2015,2016,2017\n",
        "df_2015_0_C = df_2015_0[(df_2015_0['hotel']==\"City Hotel\")]\n",
        "df_2016_0_C = df_2016_0[(df_2016_0['hotel']==\"City Hotel\")]\n",
        "df_2017_0_C = df_2017_0[(df_2017_0['hotel']==\"City Hotel\")]\n",
        "# Using value count and prepare data on particular year of cancellation of top 6 country i.e. 2016,2017\n",
        "con_df_2015_0_C,con_df_2016_0_C,con_df_2017_0_C = df_2015_0_C[\"country\"].value_counts()[:6],df_2016_0_C[\"country\"].value_counts()[:6],df_2017_0_C[\"country\"].value_counts()[:6]\n",
        "# For Define size and sub plot numbers \n",
        "fig, ax = plt.subplots(1,2, figsize=(15,10))\n",
        "# Pie plot of confirm percentage booking in 2016 top six with proper labels and proper define edges\n",
        "ax[0].pie(con_df_2016_0_C,autopct=lambda m: '{:.0f}\\n({:.1f}%)'.format(m*sum(con_df_2016_0_C)/100,m),labels=con_df_2016_0_C.index[:6],wedgeprops={\"edgecolor\":\"black\",'linewidth': 2, 'linestyle': 'solid'})\n",
        "# Set the title of First plot with proper assigned font size\n",
        "ax[0].set_title(\"Top6_%_2016\",fontsize=20)\n",
        "# Pie plot of confirm percentage booking in 2017 top six with proper labels and proper define edges\n",
        "ax[1].pie(con_df_2017_0_C,autopct=lambda m: '{:.0f}\\n({:.1f}%)'.format(m*sum(con_df_2017_0_C)/100,m),labels=con_df_2017_0_C.index[:6],wedgeprops={\"edgecolor\":\"black\",'linewidth': 2, 'linestyle': 'solid'})\n",
        "# Set the title of Second plot with proper assigned font size\n",
        "ax[1].set_title(\"Top6_%_2017\",fontsize=20)\n",
        "# Set the title of Overall plot \n",
        "fig.suptitle('City Hotel Top six Country Demanded Hotel',fontsize=30) \n",
        "# Display only plot not error message\n",
        "plt.show()"
      ],
      "metadata": {
        "id": "TIJwrbroYuh3"
      },
      "execution_count": null,
      "outputs": []
    },
    {
      "cell_type": "markdown",
      "source": [
        "##### 1. Why did you pick the specific chart?"
      ],
      "metadata": {
        "id": "QHF8YVU7Yuh3"
      }
    },
    {
      "cell_type": "markdown",
      "source": [
        "Answer :- Too see top six country of highest confirm booking."
      ],
      "metadata": {
        "id": "dcxuIMRPYuh3"
      }
    },
    {
      "cell_type": "markdown",
      "source": [
        "##### 2. What is/are the insight(s) found from the chart?"
      ],
      "metadata": {
        "id": "GwzvFGzlYuh3"
      }
    },
    {
      "cell_type": "markdown",
      "source": [
        "Answer :- PRT,FRA,ESP,GBR,ITA,DEU is the top six country which also has key play role bussiness growth."
      ],
      "metadata": {
        "id": "uyqkiB8YYuh3"
      }
    },
    {
      "cell_type": "markdown",
      "source": [
        "##### 3. Will the gained insights help creating a positive business impact? \n",
        "Are there any insights that lead to negative growth? Justify with specific reason."
      ],
      "metadata": {
        "id": "qYpmQ266Yuh3"
      }
    },
    {
      "cell_type": "markdown",
      "source": [
        "Answer :- Business growth is high in this above six country but the cancellation is also high among this same top six country. Highly demanded and highly cancellation means hotel authority is not give satisfactory service of some of the particular market segment or customer type. That can lead business to negative growth.\n",
        "\n",
        "---"
      ],
      "metadata": {
        "id": "_WtzZ_hCYuh4"
      }
    },
    {
      "cell_type": "markdown",
      "source": [
        "#### Chart - 6"
      ],
      "metadata": {
        "id": "OH-pJp9IphqM"
      }
    },
    {
      "cell_type": "code",
      "source": [
        "# Chart - 6 visualization code\n",
        "# Extract of Cancellation  and non cancellation  of top 6 country\n",
        "con_df_1 = df[df['is_canceled']==1 &((df[\"country\"]==\"PRT\")|(df[\"country\"]==\"FRA\")|(df[\"country\"]==\"DEU\")|(df[\"country\"]==\"GBR\")|(df[\"country\"]==\"ESP\")|(df[\"country\"]==\"ITA\"))]\n",
        "con_df_0 = df[df['is_canceled']==0 &((df[\"country\"]==\"PRT\")|(df[\"country\"]==\"FRA\")|(df[\"country\"]==\"DEU\")|(df[\"country\"]==\"GBR\")|(df[\"country\"]==\"ESP\")|(df[\"country\"]==\"ITA\"))]\n",
        "k = 0\n",
        "temp = [\"Cancellation\",\"confirm\"] # for titles\n",
        "for j in (con_df_1,con_df_0): # apply for loop\n",
        "  # feature looks \"arrival_date_month\",\"meal\",\"customer_type\",\"reserved_room_type\",\"market_segment\" of particular year \n",
        "  for i in [\"arrival_date_month\",\"meal\",\"customer_type\",\"reserved_room_type\",\"market_segment\"]:\n",
        "    # Using cat plot\n",
        "    sns.catplot(x=i,data=j,kind=\"count\",hue=\"arrival_date_year\",height=5, aspect=12/5)\n",
        "    # For title of plot\n",
        "    plt.title(\"Country 'PRT,FRA,DEU,GBR,ESP,ITA' {} Year '2015, 2016 & 2017' \\n Feature {} distribution\".format(temp[k],i),fontsize=15)\n",
        "    # Display only plot not error message\n",
        "    plt.show()\n",
        "    # one jump of new line of another plot\n",
        "    print(\"\\n\")\n",
        "  k+=1\n",
        "  print(\"END\")"
      ],
      "metadata": {
        "id": "-BQNEKTVgvbT"
      },
      "execution_count": null,
      "outputs": []
    },
    {
      "cell_type": "markdown",
      "source": [
        "##### 1. Why did you pick the specific chart?"
      ],
      "metadata": {
        "id": "bbFf2-_FphqN"
      }
    },
    {
      "cell_type": "markdown",
      "source": [
        "Answer :- For comparison of cancellation and non cancellation to found out distributing pattern amoung this features \"arrival_date_month\",\"meal\",\"customer_type\",\"reserved_room_type\" & \"market_segment\""
      ],
      "metadata": {
        "id": "loh7H2nzphqN"
      }
    },
    {
      "cell_type": "markdown",
      "source": [
        "##### 2. What is/are the insight(s) found from the chart?"
      ],
      "metadata": {
        "id": "_ouA3fa0phqN"
      }
    },
    {
      "cell_type": "markdown",
      "source": [
        "Answer :- arrival_date_month feature explain we have a period of data july 2015 to August 2017. from the above spam we have found the intersection of this three year is only month of july august\n",
        "\n",
        "\n",
        "Below categorized in form of descending way\n",
        " \n",
        "\"meal\" (cancellation) = BB>SC>HB\n",
        "\n",
        "\"meal\" (confirm) = BB>SC>HB\n",
        "\n",
        "\"customer_type\" (cancellation) = Transient>Transient-party>contract\n",
        "\n",
        "\"customer_type\" (confirm) = Transient>Transient-party>contract\n",
        "\n",
        "\"reserved_room_type\" (cancellation) = A>D>E\n",
        "\n",
        "\"reserved_room_type\" (confirm) = A>D>E\n",
        "\n",
        "\"market_segment\" (cancellation) = Online>offline>direct\n",
        "\n",
        "\"market_segment\" (confirm) = Online>offline>direct\n"
      ],
      "metadata": {
        "id": "VECbqPI7phqN"
      }
    },
    {
      "cell_type": "markdown",
      "source": [
        "##### 3. Will the gained insights help creating a positive business impact? \n",
        "Are there any insights that lead to negative growth? Justify with specific reason."
      ],
      "metadata": {
        "id": "Seke61FWphqN"
      }
    },
    {
      "cell_type": "markdown",
      "source": [
        "Answer :- from above collected information we found out cancellation and confirm have exactly similar type of distribution found out so to control the cancellation .Design or update policy of particular specify for online market segment & Transient customer type for cancellation.\n",
        "\n",
        "\n",
        "---"
      ],
      "metadata": {
        "id": "DW4_bGpfphqN"
      }
    },
    {
      "cell_type": "markdown",
      "source": [
        "#### Chart - 7"
      ],
      "metadata": {
        "id": "PIIx-8_IphqN"
      }
    },
    {
      "cell_type": "code",
      "source": [
        "# Chart - 7 visualization code\n",
        "# using seaborn libray in it catplot is used for plot\n",
        "sns.catplot(y=\"lead_time\",x=\"hotel\",data=df,kind=\"box\",hue='market_segment',height=7, aspect=12/5)\n",
        "plt.ylabel(\"Lead_Time\",fontdict={\"fontsize\":15}) # for y label using matplot library\n",
        "plt.xlabel(\"Hotel Type\",fontdict={\"fontsize\":15}) # for x label using matplot library\n",
        "plt.title(\"Visualize Lead time of hotel (Categorized by {})\".format('market_segment'),fontdict={\"fontsize\":20}) # for title of the plot\n",
        "plt.grid(True) # Shows grid line on plot\n",
        "plt.ylim(0,600)\n",
        "plt.show() # Shows plots only"
      ],
      "metadata": {
        "id": "lqAIGUfyphqO"
      },
      "execution_count": null,
      "outputs": []
    },
    {
      "cell_type": "markdown",
      "source": [
        "##### 1. Why did you pick the specific chart?"
      ],
      "metadata": {
        "id": "t27r6nlMphqO"
      }
    },
    {
      "cell_type": "markdown",
      "source": [
        "Answer :- Too see the best time to book the hotel."
      ],
      "metadata": {
        "id": "iv6ro40sphqO"
      }
    },
    {
      "cell_type": "markdown",
      "source": [
        "##### 2. What is/are the insight(s) found from the chart?"
      ],
      "metadata": {
        "id": "r2jJGEOYphqO"
      }
    },
    {
      "cell_type": "markdown",
      "source": [
        "Answer :- For categorized lead time to market segment the graph is very clear & self explantory when the traffic is too high when particular hotel type & market segment from before 2-3 days the best time to book the hotel."
      ],
      "metadata": {
        "id": "Po6ZPi4hphqO"
      }
    },
    {
      "cell_type": "markdown",
      "source": [
        "##### 3. Will the gained insights help creating a positive business impact? \n",
        "Are there any insights that lead to negative growth? Justify with specific reason."
      ],
      "metadata": {
        "id": "b0JNsNcRphqO"
      }
    },
    {
      "cell_type": "markdown",
      "source": [
        "Answer :- The gained insights help creating a positive business impact is to give the reminder for regular customers is it your right time to book the hotel with out additional cost and avoid rush.\n",
        "\n",
        "---"
      ],
      "metadata": {
        "id": "xvSq8iUTphqO"
      }
    },
    {
      "cell_type": "markdown",
      "source": [
        "#### Chart - 8"
      ],
      "metadata": {
        "id": "BZR9WyysphqO"
      }
    },
    {
      "cell_type": "code",
      "source": [
        "df[[\"hotel\",\"adr\",'market_segment']].groupby(by=['market_segment','hotel'])[\"adr\"].quantile(.50).reset_index()"
      ],
      "metadata": {
        "id": "DNRqBOM5Z76D"
      },
      "execution_count": null,
      "outputs": []
    },
    {
      "cell_type": "code",
      "source": [
        "# Chart - 8 visualization code\n",
        "# using seaborn libray in it catplot is used for plot\n",
        "sns.catplot(y=\"adr\",x=\"hotel\",data=df,kind=\"box\",hue='market_segment',height=7, aspect=12/5)\n",
        "plt.ylabel(\"adr\",fontdict={\"fontsize\":15}) # for y label using matplot library\n",
        "plt.xlabel(\"Hotel Type\",fontdict={\"fontsize\":15}) # for x label using matplot library\n",
        "plt.title(\"Average daily rate (Categorized by {})\".format('market_segment'),fontdict={\"fontsize\":20}) # for title of the plot\n",
        "plt.ylim(0,400)\n",
        "plt.grid(True) # Shows grid line on plot\n",
        "plt.show() # Shows plots only"
      ],
      "metadata": {
        "id": "TdPTWpAVphqO"
      },
      "execution_count": null,
      "outputs": []
    },
    {
      "cell_type": "markdown",
      "source": [
        "##### 1. Why did you pick the specific chart?"
      ],
      "metadata": {
        "id": "jj7wYXLtphqO"
      }
    },
    {
      "cell_type": "markdown",
      "source": [
        "Answer :- Average daily rate (ADR), one of the key hotel performance indicators.\n",
        "\n",
        "ADR = Daily Revenue/Total Rooms"
      ],
      "metadata": {
        "id": "Ob8u6rCTphqO"
      }
    },
    {
      "cell_type": "markdown",
      "source": [
        "##### 2. What is/are the insight(s) found from the chart?"
      ],
      "metadata": {
        "id": "eZrbJ2SmphqO"
      }
    },
    {
      "cell_type": "markdown",
      "source": [
        "Answer :- Market segment (Direct,Corporate,Online TA,Offline TA/TO & Group) is the main players to boost the revenue of hotels."
      ],
      "metadata": {
        "id": "mZtgC_hjphqO"
      }
    },
    {
      "cell_type": "markdown",
      "source": [
        "##### 3. Will the gained insights help creating a positive business impact?"
      ],
      "metadata": {
        "id": "rFu4xreNphqO"
      }
    },
    {
      "cell_type": "markdown",
      "source": [
        "Answer :- Market segment (Direct,Corporate,Online TA,Offline TA/TO & Group) that is the back bone of hotels for major role to increase revenue. Majorly focused for the this cluster of market segment to make attractive offers (like for 2 days booking one day meal free) for increase the more revenue.\n",
        "\n",
        "\n",
        "---"
      ],
      "metadata": {
        "id": "ey_0qi68phqO"
      }
    },
    {
      "cell_type": "markdown",
      "source": [
        "#### Chart - 9"
      ],
      "metadata": {
        "id": "YJ55k-q6phqO"
      }
    },
    {
      "cell_type": "code",
      "source": [
        "# apply groupby operation and extract data of market segment to high rush week\n",
        "# for 25% create dataframe \n",
        "x = df[[\"hotel\",'arrival_date_week_number','market_segment']].groupby(by=['market_segment','hotel'])['arrival_date_week_number'].quantile(.25).reset_index()\n",
        "# for 75% \n",
        "y = df[[\"hotel\",'arrival_date_week_number','market_segment']].groupby(by=['market_segment','hotel'])['arrival_date_week_number'].quantile(.75).reset_index()[\"arrival_date_week_number\"]\n",
        "# addup 75% to x dataframe\n",
        "x[\"arrival_week(75%)\"] = y\n",
        "# Rename of columns\n",
        "x.rename(columns={'arrival_date_week_number':\"arrival_week(25%)\"},inplace=True)\n",
        "x # Print of dataframe"
      ],
      "metadata": {
        "id": "hGuAFNFHNNnE"
      },
      "execution_count": null,
      "outputs": []
    },
    {
      "cell_type": "code",
      "source": [
        "# Chart - 9 visualization code\n",
        "# Using seaborn library ,catplot is used\n",
        "sns.catplot(y='arrival_date_week_number',x=\"hotel\",data=df,kind=\"box\",hue='market_segment',height=7, aspect=12/5)\n",
        "plt.ylabel('arrival_date_week_number',fontdict={\"fontsize\":15}) # for y label\n",
        "plt.xlabel(\"Hotel Type\",fontdict={\"fontsize\":15}) # for x label\n",
        "plt.title(\"Arrival Week Number (Categorized by {})\".format('market_segment'),fontdict={\"fontsize\":20}) # plot the title\n",
        "plt.grid(True) # make grid on the plot\n",
        "plt.show() # Display only graph"
      ],
      "metadata": {
        "id": "B2aS4O1ophqO"
      },
      "execution_count": null,
      "outputs": []
    },
    {
      "cell_type": "markdown",
      "source": [
        "##### 1. Why did you pick the specific chart?"
      ],
      "metadata": {
        "id": "gCFgpxoyphqP"
      }
    },
    {
      "cell_type": "markdown",
      "source": [
        "Answer :- Too see Week wise distribution rush in hotels of particular market segment."
      ],
      "metadata": {
        "id": "TVxDimi2phqP"
      }
    },
    {
      "cell_type": "markdown",
      "source": [
        "##### 2. What is/are the insight(s) found from the chart?"
      ],
      "metadata": {
        "id": "OVtJsKN_phqQ"
      }
    },
    {
      "cell_type": "markdown",
      "source": [
        "Answer :- Approx Between 10 to 45 week number is the busiest week of all market segment."
      ],
      "metadata": {
        "id": "ngGi97qjphqQ"
      }
    },
    {
      "cell_type": "markdown",
      "source": [
        "##### 3. Will the gained insights help creating a positive business impact? \n"
      ],
      "metadata": {
        "id": "lssrdh5qphqQ"
      }
    },
    {
      "cell_type": "markdown",
      "source": [
        "Answer :- To send the report to particular hotels please be pro active this weeks numbers with full loaded employee to takecare care of assigned guests.\n",
        "\n",
        "---"
      ],
      "metadata": {
        "id": "tBpY5ekJphqQ"
      }
    },
    {
      "cell_type": "markdown",
      "source": [
        "#### Chart - 10"
      ],
      "metadata": {
        "id": "U2RJ9gkRphqQ"
      }
    },
    {
      "cell_type": "code",
      "source": [
        "# apply groupby operation and extract data of market segment to stays_in_weekend_nights\n",
        "# Apply groupby operation extract values of 25% quantile and make dataframe\n",
        "x = df[[\"hotel\",'stays_in_weekend_nights','market_segment']].groupby(by=['market_segment','hotel'])['stays_in_weekend_nights'].quantile(.25).reset_index()\n",
        "# Apply groupby operation extract values of 75% quantile\n",
        "y = df[[\"hotel\",'stays_in_weekend_nights','market_segment']].groupby(by=['market_segment','hotel'])['stays_in_weekend_nights'].quantile(.75).reset_index()['stays_in_weekend_nights']\n",
        "# x dataframe to add up new column\n",
        "x[\"weekend_nights(75%)\"] = y\n",
        "# Rename of columns\n",
        "x.rename(columns={'stays_in_weekend_nights':\"weekend_nights(25%)\"},inplace=True)\n",
        "# Apply operation and extract span of particular market segment weekend night stay_spam\n",
        "x[\"weekend_night_stay_spam\"] = x['weekend_nights(75%)']-x['weekend_nights(25%)']\n",
        "# Extract the useful data from x dataframe\n",
        "x[[\"market_segment\",\"hotel\",\"weekend_night_stay_spam\"]]"
      ],
      "metadata": {
        "id": "f6EZj8BZRofn"
      },
      "execution_count": null,
      "outputs": []
    },
    {
      "cell_type": "code",
      "source": [
        "# Chart - 10 visualization code\n",
        "# Using Seaborn library and catplot is used\n",
        "sns.catplot(y='stays_in_weekend_nights',x=\"hotel\",data=df,kind=\"box\",hue='market_segment',height=7, aspect=12/5)\n",
        "plt.ylabel('stays_in_weekend_nights',fontdict={\"fontsize\":15}) # For y label of plot\n",
        "plt.xlabel(\"Hotel Type\",fontdict={\"fontsize\":15}) # for x label of plot\n",
        "plt.title(\"stays_in_weekend_nights (Categorized by {})\".format('market_segment'),fontdict={\"fontsize\":20}) # title of the plot\n",
        "plt.ylim(-1,6) # limit of the plot\n",
        "plt.grid(True) # Plot grid\n",
        "plt.show() # Display the Plot "
      ],
      "metadata": {
        "id": "GM7a4YP4phqQ"
      },
      "execution_count": null,
      "outputs": []
    },
    {
      "cell_type": "markdown",
      "source": [
        "##### 1. Why did you pick the specific chart?"
      ],
      "metadata": {
        "id": "1M8mcRywphqQ"
      }
    },
    {
      "cell_type": "markdown",
      "source": [
        "Answer :- Too see which market segment have the stay range of weekend nights."
      ],
      "metadata": {
        "id": "8agQvks0phqQ"
      }
    },
    {
      "cell_type": "markdown",
      "source": [
        "##### 2. What is/are the insight(s) found from the chart?"
      ],
      "metadata": {
        "id": "tgIPom80phqQ"
      }
    },
    {
      "cell_type": "markdown",
      "source": [
        "Answer :- Approx 0 to 2 days range is fall of all market segments."
      ],
      "metadata": {
        "id": "Qp13pnNzphqQ"
      }
    },
    {
      "cell_type": "markdown",
      "source": [
        "##### 3. Will the gained insights help creating a positive business impact? \n"
      ],
      "metadata": {
        "id": "JMzcOPDDphqR"
      }
    },
    {
      "cell_type": "markdown",
      "source": [
        "Answer :- The gained insight help creating a positive business impact is not create any offer or discount if any of market segment is stay 2 weekend nights.\n",
        "\n",
        "---"
      ],
      "metadata": {
        "id": "R4Ka1PC2phqR"
      }
    },
    {
      "cell_type": "markdown",
      "source": [
        "#### Chart - 11"
      ],
      "metadata": {
        "id": "x-EpHcCOp1ci"
      }
    },
    {
      "cell_type": "code",
      "source": [
        "# apply groupby operation and extract data of market segment to stays_in_week_nights\n",
        "# Apply groupby operation extract values of 25% quantile and make dataframe\n",
        "x = df[[\"hotel\",'stays_in_week_nights','market_segment']].groupby(by=['market_segment','hotel'])['stays_in_week_nights'].quantile(.25).reset_index()\n",
        "# Apply groupby operation extract values of 75% quantile\n",
        "y = df[[\"hotel\",'stays_in_week_nights','market_segment']].groupby(by=['market_segment','hotel'])['stays_in_week_nights'].quantile(.75).reset_index()['stays_in_week_nights']\n",
        "# x dataframe to add up new column\n",
        "x[\"week_nights(75%)\"] = y\n",
        "# Rename of columns\n",
        "x.rename(columns={'stays_in_week_nights':\"week_nights(25%)\"},inplace=True)\n",
        "# Apply operation and extract span of particular market segment week night stay_spam\n",
        "x[\"week_night_stay_spam\"] = x['week_nights(75%)']-x['week_nights(25%)']\n",
        "# Extract the useful data from x dataframe\n",
        "x[[\"market_segment\",\"hotel\",\"week_night_stay_spam\"]]"
      ],
      "metadata": {
        "id": "EYHutR0xTjc8"
      },
      "execution_count": null,
      "outputs": []
    },
    {
      "cell_type": "code",
      "source": [
        "# Chart - 11 visualization code\n",
        "# Using seaborn library and catplot is use\n",
        "sns.catplot(y='stays_in_week_nights',x=\"hotel\",data=df,kind=\"box\",hue='market_segment',height=7, aspect=12/5)\n",
        "plt.ylabel('stays_in_week_nights',fontdict={\"fontsize\":15}) # for y label of plot\n",
        "plt.xlabel(\"Hotel Type\",fontdict={\"fontsize\":15}) # for x label of plot\n",
        "plt.title(\"'stays_in_week_nights' (Categorized by {})\".format('market_segment'),fontdict={\"fontsize\":20}) # Title of the plot\n",
        "plt.ylim(-1,10) # Constraint the along y lenght\n",
        "plt.grid(True) # show gird on plot\n",
        "plt.show() # Display only plot"
      ],
      "metadata": {
        "id": "mAQTIvtqp1cj"
      },
      "execution_count": null,
      "outputs": []
    },
    {
      "cell_type": "markdown",
      "source": [
        "##### 1. Why did you pick the specific chart?"
      ],
      "metadata": {
        "id": "X_VqEhTip1ck"
      }
    },
    {
      "cell_type": "markdown",
      "source": [
        "Answer :- Too see which market segment have the stay range of week nights."
      ],
      "metadata": {
        "id": "-vsMzt_np1ck"
      }
    },
    {
      "cell_type": "markdown",
      "source": [
        "##### 2. What is/are the insight(s) found from the chart?"
      ],
      "metadata": {
        "id": "8zGJKyg5p1ck"
      }
    },
    {
      "cell_type": "markdown",
      "source": [
        "Answer :- Approx 1 to 5 days range is fall of all market segments."
      ],
      "metadata": {
        "id": "ZYdMsrqVp1ck"
      }
    },
    {
      "cell_type": "markdown",
      "source": [
        "##### 3. Will the gained insights help creating a positive business impact? "
      ],
      "metadata": {
        "id": "PVzmfK_Ep1ck"
      }
    },
    {
      "cell_type": "markdown",
      "source": [
        "Answer :- The gained insight help creating a positive business impact is not create any offer or discount if any of market segment is stay 1 to 5 week nights.\n",
        "\n",
        "---"
      ],
      "metadata": {
        "id": "druuKYZpp1ck"
      }
    },
    {
      "cell_type": "markdown",
      "source": [
        "#### Chart - 12"
      ],
      "metadata": {
        "id": "n3dbpmDWp1ck"
      }
    },
    {
      "cell_type": "code",
      "source": [
        "# Using groupby operation and extract data of 'arrival_date_month','arrival_date_year','adr'(median) sort value by adr and create data frame\n",
        "extract = df[['hotel','arrival_date_month','arrival_date_year','adr']].groupby(by=['hotel','arrival_date_month','arrival_date_year'])['adr'].median().reset_index().sort_values(by=\"adr\",ascending=False)\n",
        "extract[((extract[\"arrival_date_month\"]==\"October\") & ((extract[\"arrival_date_year\"]==2015)|(extract[\"arrival_date_year\"]==2016)|(extract[\"arrival_date_year\"]==2017))) |\n",
        "         ((extract[\"arrival_date_month\"]==\"November\") & ((extract[\"arrival_date_year\"]==2015)|(extract[\"arrival_date_year\"]==2016)|(extract[\"arrival_date_year\"]==2017))) |\n",
        "         ((extract[\"arrival_date_month\"]==\"December\") & ((extract[\"arrival_date_year\"]==2015)|(extract[\"arrival_date_year\"]==2016)|(extract[\"arrival_date_year\"]==2017))) |\n",
        "         ((extract[\"arrival_date_month\"]==\"January\") & ((extract[\"arrival_date_year\"]==2015)|(extract[\"arrival_date_year\"]==2016)|(extract[\"arrival_date_year\"]==2017))) |\n",
        "         ((extract[\"arrival_date_month\"]==\"February\") & ((extract[\"arrival_date_year\"]==2015)|(extract[\"arrival_date_year\"]==2016)|(extract[\"arrival_date_year\"]==2017))) |\n",
        "         ((extract[\"arrival_date_month\"]==\"March\") & ((extract[\"arrival_date_year\"]==2015)|(extract[\"arrival_date_year\"]==2016)|(extract[\"arrival_date_year\"]==2017)))]"
      ],
      "metadata": {
        "id": "Wt-PB_oBZSqD"
      },
      "execution_count": null,
      "outputs": []
    },
    {
      "cell_type": "code",
      "source": [
        "# Chart - 12 visualization code\n",
        "# Visualisation.\n",
        "# For setting the size of the plot\n",
        "plt.subplots(figsize=(15,7)) \n",
        "# Using seaborn library line plot is used\n",
        "sns.lineplot(x='arrival_date_month',y='adr',data=df,hue='arrival_date_year',style=\"hotel\",palette='Dark2_r',linewidth=1.5)\n",
        "plt.ylabel('<--------Average Daily Rate ------>',fontdict={\"fontsize\":15}) # For y label of plot\n",
        "plt.xlabel('<-------arrival_date_month-------->',fontdict={\"fontsize\":15}) # for x label of plot\n",
        "plt.title(\"Arrival Daily rate Distribution Monthly Wise {Categorized by Year}\",fontdict={\"fontsize\":20}) # Plot the title of the plot\n",
        "plt.grid(True) # For square grid line on plot\n",
        "plt.show() # Only display of the plot"
      ],
      "metadata": {
        "id": "bwevp1tKp1ck"
      },
      "execution_count": null,
      "outputs": []
    },
    {
      "cell_type": "markdown",
      "source": [
        "##### 1. Why did you pick the specific chart?"
      ],
      "metadata": {
        "id": "ylSl6qgtp1ck"
      }
    },
    {
      "cell_type": "markdown",
      "source": [
        "Answer :- To see the distribution of revenue of month wise & seems which year collect highest revenue categorized by hotels."
      ],
      "metadata": {
        "id": "m2xqNkiQp1ck"
      }
    },
    {
      "cell_type": "markdown",
      "source": [
        "##### 2. What is/are the insight(s) found from the chart?"
      ],
      "metadata": {
        "id": "ZWILFDl5p1ck"
      }
    },
    {
      "cell_type": "markdown",
      "source": [
        "Answer :-  Resort hotel is peak in the month of august and low in the month of january seems too high flucatuation is resort hotel.\n",
        "\n",
        "City hotel is also peak in the month of august and low in the month of janurary but distribution is smooth with respect to resort hotel."
      ],
      "metadata": {
        "id": "x-lUsV2mp1ck"
      }
    },
    {
      "cell_type": "markdown",
      "source": [
        "##### 3. Will the gained insights help creating a positive business impact? \n"
      ],
      "metadata": {
        "id": "M7G43BXep1ck"
      }
    },
    {
      "cell_type": "markdown",
      "source": [
        "Answer :-Fall down of revenue between from the end of october to end of march with in this six month give some more offers to customers to increase the revenue of this six month. if revenue can increase this defined tenure all operation & business run very smoothly. \n",
        "\n",
        "---\n",
        "\n"
      ],
      "metadata": {
        "id": "5wwDJXsLp1cl"
      }
    },
    {
      "cell_type": "markdown",
      "source": [
        "#### Chart - 13"
      ],
      "metadata": {
        "id": "Ag9LCva-p1cl"
      }
    },
    {
      "cell_type": "code",
      "source": [
        "# Apply group by operation to extract hotel, market_segment and count and the convert to dataframe\n",
        "df_1[['market_segment','hotel']].groupby([\"hotel\",'market_segment'])['market_segment'].count().to_frame()"
      ],
      "metadata": {
        "id": "MZZBCkmfZIxJ"
      },
      "execution_count": null,
      "outputs": []
    },
    {
      "cell_type": "code",
      "source": [
        "# Chart - 13 visualization code\n",
        "# Define the size of the plot by using matplot library\n",
        "plt.figure(figsize=(15,7))\n",
        "# From seaborn libary using countplot\n",
        "sns.countplot(x='market_segment',hue=\"hotel\",data=df_1)\n",
        "plt.xlabel('<------------ market_segment ---------->',fontsize=18) # For x label\n",
        "plt.ylabel('<------- Number of Cancellation ------->',fontsize=18) # For y label\n",
        "plt.title('Cancellation Rate Vs market_segment',fontsize=20) # Title of the plot\n",
        "plt.show() # Display plot only"
      ],
      "metadata": {
        "id": "EUfxeq9-p1cl"
      },
      "execution_count": null,
      "outputs": []
    },
    {
      "cell_type": "markdown",
      "source": [
        "##### 1. Why did you pick the specific chart?"
      ],
      "metadata": {
        "id": "E6MkPsBcp1cl"
      }
    },
    {
      "cell_type": "markdown",
      "source": [
        "Answer :- For seems most volatile market segment which have highest cancellation count."
      ],
      "metadata": {
        "id": "V22bRsFWp1cl"
      }
    },
    {
      "cell_type": "markdown",
      "source": [
        "##### 2. What is/are the insight(s) found from the chart?"
      ],
      "metadata": {
        "id": "2cELzS2fp1cl"
      }
    },
    {
      "cell_type": "markdown",
      "source": [
        "Answer :- Online TA is most fluctuating market segment Complementary, Undefined & Aviation is most reliable customers of market segment."
      ],
      "metadata": {
        "id": "ozQPc2_Ip1cl"
      }
    },
    {
      "cell_type": "markdown",
      "source": [
        "##### 3. Will the gained insights help creating a positive business impact? "
      ],
      "metadata": {
        "id": "3MPXvC8up1cl"
      }
    },
    {
      "cell_type": "markdown",
      "source": [
        "Answer :- Online TA market segment is most dangerous of bussiness growth that pull back entire growth. Put in special observation category for the Online TA market segment.\n",
        "\n",
        "---"
      ],
      "metadata": {
        "id": "GL8l1tdLp1cl"
      }
    },
    {
      "cell_type": "markdown",
      "source": [
        "#### Chart - 14 - Correlation Heatmap"
      ],
      "metadata": {
        "id": "NC_X3p0fY2L0"
      }
    },
    {
      "cell_type": "code",
      "source": [
        "# Correlation Heatmap visualization code\n",
        "# Define the size of the plot by using matplot library\n",
        "plt.figure(figsize=(10,7))\n",
        "# Use Seaborn libary and plot of correaltion heatmap of Continuous variable\n",
        "sns.heatmap(df[CONT_VAR].corr(),annot=True)\n",
        "plt.show() # To Display plot only"
      ],
      "metadata": {
        "id": "xyC9zolEZNRQ"
      },
      "execution_count": null,
      "outputs": []
    },
    {
      "cell_type": "markdown",
      "source": [
        "##### 1. Why did you pick the specific chart?"
      ],
      "metadata": {
        "id": "UV0SzAkaZNRQ"
      }
    },
    {
      "cell_type": "markdown",
      "source": [
        "Answer :- Too short out redundant continuous variables in data set. "
      ],
      "metadata": {
        "id": "DVPuT8LYZNRQ"
      }
    },
    {
      "cell_type": "markdown",
      "source": [
        "##### 2. What is/are the insight(s) found from the chart?"
      ],
      "metadata": {
        "id": "YPEH6qLeZNRQ"
      }
    },
    {
      "cell_type": "markdown",
      "source": [
        "Answer :- lead time is negative correlation with previous booking not canceled.\n",
        "\n",
        "stay in weekend nights is moderate correlation with stay in week nights.\n",
        "\n",
        "rest all are very weak positive and very weak negative correlation with eachother."
      ],
      "metadata": {
        "id": "bfSqtnDqZNRR"
      }
    },
    {
      "cell_type": "markdown",
      "source": [
        "#### Chart - 15 - Pair Plot "
      ],
      "metadata": {
        "id": "q29F0dvdveiT"
      }
    },
    {
      "cell_type": "code",
      "source": [
        "# Pair Plot visualization code\n",
        "sns.pairplot(df[CONT_VAR],diag_kind=\"kde\")\n",
        "plt.show() # To display the plot"
      ],
      "metadata": {
        "id": "o58-TEIhveiU"
      },
      "execution_count": null,
      "outputs": []
    },
    {
      "cell_type": "markdown",
      "source": [
        "##### 1. Why did you pick the specific chart?"
      ],
      "metadata": {
        "id": "EXh0U9oCveiU"
      }
    },
    {
      "cell_type": "markdown",
      "source": [
        "Answer :- Scatter plot Visualize how data is distributed in one go for assigned features."
      ],
      "metadata": {
        "id": "eMmPjTByveiU"
      }
    },
    {
      "cell_type": "markdown",
      "source": [
        "##### 2. What is/are the insight(s) found from the chart?"
      ],
      "metadata": {
        "id": "22aHeOlLveiV"
      }
    },
    {
      "cell_type": "markdown",
      "source": [
        "Answer :- The Correlation between independent variable is very low with each other. "
      ],
      "metadata": {
        "id": "uPQ8RGwHveiV"
      }
    },
    {
      "cell_type": "markdown",
      "source": [
        "## **5. Solution to Business Objective**"
      ],
      "metadata": {
        "id": "JcMwzZxoAimU"
      }
    },
    {
      "cell_type": "markdown",
      "source": [
        "#### What do you suggest the client to achieve Business Objective ? \n"
      ],
      "metadata": {
        "id": "8G2x9gOozGDZ"
      }
    },
    {
      "cell_type": "markdown",
      "source": [
        "Answer :-  Suggestion listed below\n",
        "\n",
        "\n",
        "1) Online TA market segment is drag our business growth because cancellation is to high from particular that segment.  Changes & update your company policy particular for that segment.\n",
        "\n",
        "2) Rush is very low in between from end of october to the end of march from this particular six month create some special attractive offer to boost revenue i.e. average daily rate.\n",
        "\n",
        "3) For stay week night 1 to 5 days & weekend night 2 days for this range not create any special offers more that create some offers.\n",
        "\n",
        "4) From 10 to 45 week number is the busiest weeks for entire year as per our data.\n",
        "\n",
        "5) Market segment (Direct,Corporate,Online TA,Offline TA/TO & Group) that is the back bone of hotels for major role to boost hotel revenue.\n",
        "\n",
        "6) For particular market segment type best to book the hotel to avoid rush."
      ],
      "metadata": {
        "id": "pASKb0qOza21"
      }
    },
    {
      "cell_type": "markdown",
      "source": [
        "# **Conclusion**"
      ],
      "metadata": {
        "id": "gCX9965dhzqZ"
      }
    },
    {
      "cell_type": "markdown",
      "source": [
        "Majorly focused in this hotel booking analysis to control the high cancellation and take care of particular those market segment which play a key role of generate revenue. All analysis is based on the data provided from client end that is based on the year 2015 to 2017. All analysis is based on particular this time frame. This Note book is completely self explanatory point wise step to steps all explained in very well manner and run all cell in one go only thing is you have only plugin the correct path of dataset csv file. "
      ],
      "metadata": {
        "id": "Fjb1IsQkh3yE"
      }
    },
    {
      "cell_type": "markdown",
      "source": [
        "### ***Hurrah! You have successfully completed your EDA Capstone Project !!!***"
      ],
      "metadata": {
        "id": "gIfDvo9L0UH2"
      }
    }
  ]
}